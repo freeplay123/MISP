{
 "cells": [
  {
   "cell_type": "code",
   "execution_count": 63,
   "metadata": {
    "collapsed": true,
    "pycharm": {
     "name": "#%%\n"
    }
   },
   "outputs": [],
   "source": [
    "import os\n",
    "from function import makedirs, feature_extract_main_sw, cluster_main_sw, cluster_main_predict_sw\n",
    "from joblib import dump, load"
   ]
  },
  {
   "cell_type": "markdown",
   "source": [
    "parameters"
   ],
   "metadata": {
    "collapsed": false,
    "pycharm": {
     "name": "#%% md\n"
    }
   }
  },
  {
   "cell_type": "code",
   "execution_count": 64,
   "outputs": [],
   "source": [
    "dataset = 'dataset'\n",
    "image_path = './dataset/image'\n",
    "mask_path = '/dataset/mask'\n",
    "out_path = './subregion_slidewindow_output/SuperVoxel_LUNG' + '_' + dataset\n",
    "yaml_path = './radiomics_features.yaml'\n",
    "csv_path = os.path.join(out_path, 'csv')\n",
    "concat_path = os.path.join(out_path, 'concat_mask')\n",
    "imgpad_path = os.path.join(out_path,'img_pad')\n",
    "maskpad_path = os.path.join(out_path,'mask_pad')\n"
   ],
   "metadata": {
    "collapsed": false,
    "pycharm": {
     "name": "#%%\n"
    }
   }
  },
  {
   "cell_type": "code",
   "execution_count": 65,
   "outputs": [],
   "source": [
    "makedirs(csv_path)\n",
    "makedirs(concat_path)\n",
    "makedirs(imgpad_path)\n",
    "makedirs(maskpad_path)"
   ],
   "metadata": {
    "collapsed": false,
    "pycharm": {
     "name": "#%%\n"
    }
   }
  },
  {
   "cell_type": "markdown",
   "source": [
    "# 1.Slide window feature extract"
   ],
   "metadata": {
    "collapsed": false,
    "pycharm": {
     "name": "#%% md\n"
    }
   }
  },
  {
   "cell_type": "code",
   "execution_count": 66,
   "outputs": [
    {
     "name": "stderr",
     "output_type": "stream",
     "text": [
      "100%|██████████| 36/36 [10:05:53<00:00, 1009.83s/it] \n"
     ]
    },
    {
     "name": "stdout",
     "output_type": "stream",
     "text": [
      "ANLI20220429.nii.gz is done!\n"
     ]
    }
   ],
   "source": [
    "feature_extract_main_sw(image_path, mask_path, imgpad_path, maskpad_path, csv_path, yaml_path)"
   ],
   "metadata": {
    "collapsed": false,
    "pycharm": {
     "name": "#%%\n"
    }
   }
  },
  {
   "cell_type": "markdown",
   "source": [
    "# 2.Population-level Cluster"
   ],
   "metadata": {
    "collapsed": false,
    "pycharm": {
     "name": "#%% md\n"
    }
   }
  },
  {
   "cell_type": "code",
   "execution_count": 67,
   "outputs": [
    {
     "name": "stdout",
     "output_type": "stream",
     "text": [
      "(170, 368, 368)\n",
      "ANLI20220429 is done!\n"
     ]
    }
   ],
   "source": [
    "cluster_main_sw(imgpad_path, maskpad_path, csv_path, concat_path, out_path)"
   ],
   "metadata": {
    "collapsed": false,
    "pycharm": {
     "name": "#%%\n"
    }
   }
  },
  {
   "cell_type": "markdown",
   "source": [
    "# 3.upload trained model"
   ],
   "metadata": {
    "collapsed": false,
    "pycharm": {
     "name": "#%% md\n"
    }
   }
  },
  {
   "cell_type": "markdown",
   "source": [],
   "metadata": {
    "collapsed": false,
    "pycharm": {
     "name": "#%% md\n"
    }
   }
  },
  {
   "cell_type": "markdown",
   "source": [],
   "metadata": {
    "collapsed": false,
    "pycharm": {
     "name": "#%% md\n"
    }
   }
  },
  {
   "cell_type": "code",
   "execution_count": null,
   "outputs": [],
   "source": [
    "dataset = 'dataset_predict'\n",
    "image_path = './dataset/image'\n",
    "mask_path = '/dataset/mask'\n",
    "out_path = './subregion_slidewindow_output/SuperVoxel_LUNG' + '_' + dataset\n",
    "yaml_path = './radiomics_features.yaml'\n",
    "sv_path = os.path.join(out_path, 'supervoxel')\n",
    "csv_path = os.path.join(out_path, 'csv')\n",
    "concat_path = os.path.join(out_path, 'concat_mask')"
   ],
   "metadata": {
    "collapsed": false,
    "pycharm": {
     "name": "#%%\n"
    }
   }
  },
  {
   "cell_type": "code",
   "execution_count": null,
   "outputs": [],
   "source": [
    "makedirs(sv_path)\n",
    "makedirs(csv_path)\n",
    "makedirs(concat_path)"
   ],
   "metadata": {
    "collapsed": false,
    "pycharm": {
     "name": "#%%\n"
    }
   }
  },
  {
   "cell_type": "code",
   "execution_count": null,
   "outputs": [],
   "source": [
    "feature_extract_main_sw(image_path, mask_path, imgpad_path, maskpad_path, csv_path, yaml_path)"
   ],
   "metadata": {
    "collapsed": false,
    "pycharm": {
     "name": "#%%\n"
    }
   }
  },
  {
   "cell_type": "code",
   "execution_count": null,
   "outputs": [],
   "source": [
    "GMM = load(os.path.join(out_path, 'model.joblib'))\n",
    "cluster_main_predict_sw(GMM, imgpad_path, maskpad_path, csv_path, concat_path)"
   ],
   "metadata": {
    "collapsed": false,
    "pycharm": {
     "name": "#%%\n"
    }
   }
  }
 ],
 "metadata": {
  "kernelspec": {
   "display_name": "Python 3",
   "language": "python",
   "name": "python3"
  },
  "language_info": {
   "codemirror_mode": {
    "name": "ipython",
    "version": 2
   },
   "file_extension": ".py",
   "mimetype": "text/x-python",
   "name": "python",
   "nbconvert_exporter": "python",
   "pygments_lexer": "ipython2",
   "version": "2.7.6"
  }
 },
 "nbformat": 4,
 "nbformat_minor": 0
}